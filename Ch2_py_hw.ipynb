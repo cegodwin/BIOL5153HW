{
 "cells": [
  {
   "cell_type": "code",
   "execution_count": null,
   "metadata": {},
   "outputs": [],
   "source": [
    "#1 The python interpreter is a program that allows you to run python programs you have written\n",
    "#2 A source code is anything that was written in your program usually saved in .py text files\n",
    "#3 A byte code is a more \"basic\" code that python creates which is stored as a .pyc file by the python program\n",
    "#4 PMV stands for \"python virtual machine\" and it interprets your byte code for python\n",
    "#5 Psyco and frozen binaries\n",
    "#6 jython and ironpython use java or .net whereas cpython is the usual way to use python\n",
    "#7 Stackless allows for multiple things to happen at once in coding and pypy is used when needing to get things done quickly"
   ]
  }
 ],
 "metadata": {
  "kernelspec": {
   "display_name": "Python 3",
   "language": "python",
   "name": "python3"
  },
  "language_info": {
   "codemirror_mode": {
    "name": "ipython",
    "version": 3
   },
   "file_extension": ".py",
   "mimetype": "text/x-python",
   "name": "python",
   "nbconvert_exporter": "python",
   "pygments_lexer": "ipython3",
   "version": "3.7.4"
  }
 },
 "nbformat": 4,
 "nbformat_minor": 2
}
